{
 "cells": [
  {
   "cell_type": "code",
   "execution_count": 79,
   "metadata": {},
   "outputs": [],
   "source": [
    "import numpy as np\n",
    "import dask\n",
    "import threading\n",
    "import multiprocessing.dummy as multithreading\n",
    "import time\n",
    "import random\n",
    "import sys"
   ]
  },
  {
   "cell_type": "code",
   "execution_count": 90,
   "metadata": {},
   "outputs": [],
   "source": [
    "def chirp(verb, fingerprint, delay):\n",
    "    sys.stdout.write('Starting ' + verb + ' ' + repr(fingerprint) + '\\n')\n",
    "    time.sleep(delay + 0.1 * delay * random.random())\n",
    "    sys.stdout.write('Finished ' + verb + ' ' + repr(fingerprint) + '\\n')\n",
    "\n",
    "class arraylike:\n",
    "    shape = (20,)\n",
    "    dtype = int\n",
    "    def __getitem__(self, arg):\n",
    "        chirp('reading', arg, 0.5)\n",
    "        return np.ones(1)\n",
    "    def __setitem__(self, arg, value):\n",
    "        chirp('writing', arg, 2)\n",
    "thing = arraylike()"
   ]
  },
  {
   "cell_type": "code",
   "execution_count": 73,
   "metadata": {},
   "outputs": [
    {
     "name": "stdout",
     "output_type": "stream",
     "text": [
      "Starting reading slice(1, 3, None)\n",
      "Finished reading slice(1, 3, None)\n"
     ]
    },
    {
     "data": {
      "text/plain": [
       "array([ 1.])"
      ]
     },
     "execution_count": 73,
     "metadata": {},
     "output_type": "execute_result"
    }
   ],
   "source": [
    "thing[1:3]"
   ]
  },
  {
   "cell_type": "code",
   "execution_count": 74,
   "metadata": {},
   "outputs": [
    {
     "name": "stdout",
     "output_type": "stream",
     "text": [
      "Starting writing 3\n",
      "Finished writing 3\n"
     ]
    }
   ],
   "source": [
    "thing[3] = 7"
   ]
  },
  {
   "cell_type": "code",
   "execution_count": 91,
   "metadata": {},
   "outputs": [],
   "source": [
    "def compute(chunk):\n",
    "    chirp('computing', chunk, 0.5)\n",
    "    return chunk"
   ]
  },
  {
   "cell_type": "code",
   "execution_count": 92,
   "metadata": {},
   "outputs": [],
   "source": [
    "x = dask.array.from_array(thing, chunks=1)"
   ]
  },
  {
   "cell_type": "code",
   "execution_count": 93,
   "metadata": {},
   "outputs": [],
   "source": [
    "z = x.map_blocks(compute, dtype=int)"
   ]
  },
  {
   "cell_type": "code",
   "execution_count": 94,
   "metadata": {},
   "outputs": [
    {
     "name": "stdout",
     "output_type": "stream",
     "text": [
      "Starting reading (slice(1, 2, None),)\n",
      "Starting reading (slice(0, 1, None),)\n",
      "Starting reading (slice(10, 11, None),)\n",
      "Starting reading (slice(11, 12, None),)\n",
      "Finished reading (slice(11, 12, None),)\n",
      "Starting computing array([ 1.])\n",
      "Finished reading (slice(1, 2, None),)\n",
      "Starting computing array([ 1.])\n",
      "Finished reading (slice(0, 1, None),)\n",
      "Starting computing array([ 1.])\n",
      "Finished reading (slice(10, 11, None),)\n",
      "Starting computing array([ 1.])\n",
      "Finished computing array([ 1.])\n",
      "Starting writing (slice(1, 2, None),)\n",
      "Finished computing array([ 1.])\n",
      "Finished computing array([ 1.])\n",
      "Finished computing array([ 1.])\n",
      "Finished writing (slice(1, 2, None),)\n",
      "Starting writing (slice(11, 12, None),)\n",
      "Starting reading (slice(12, 13, None),)\n",
      "Finished reading (slice(12, 13, None),)\n",
      "Starting computing array([ 1.])\n",
      "Finished computing array([ 1.])\n",
      "Finished writing (slice(11, 12, None),)\n",
      "Starting writing (slice(0, 1, None),)\n",
      "Starting reading (slice(13, 14, None),)\n",
      "Finished reading (slice(13, 14, None),)\n",
      "Starting computing array([ 1.])\n",
      "Finished computing array([ 1.])\n",
      "Finished writing (slice(0, 1, None),)\n",
      "Starting writing (slice(10, 11, None),)\n",
      "Starting reading (slice(14, 15, None),)\n",
      "Finished reading (slice(14, 15, None),)\n",
      "Starting computing array([ 1.])\n",
      "Finished computing array([ 1.])\n",
      "Finished writing (slice(10, 11, None),)\n",
      "Starting writing (slice(12, 13, None),)\n",
      "Starting reading (slice(15, 16, None),)\n",
      "Finished reading (slice(15, 16, None),)\n",
      "Starting computing array([ 1.])\n",
      "Finished computing array([ 1.])\n",
      "Finished writing (slice(12, 13, None),)\n",
      "Starting writing (slice(13, 14, None),)\n",
      "Starting reading (slice(16, 17, None),)\n",
      "Finished reading (slice(16, 17, None),)\n",
      "Starting computing array([ 1.])\n",
      "Finished computing array([ 1.])\n",
      "Finished writing (slice(13, 14, None),)\n",
      "Starting writing (slice(14, 15, None),)\n",
      "Starting reading (slice(17, 18, None),)\n",
      "Finished reading (slice(17, 18, None),)\n",
      "Starting computing array([ 1.])\n",
      "Finished computing array([ 1.])\n",
      "Finished writing (slice(14, 15, None),)\n",
      "Starting writing (slice(15, 16, None),)\n",
      "Starting reading (slice(18, 19, None),)\n",
      "Finished reading (slice(18, 19, None),)\n",
      "Starting computing array([ 1.])\n",
      "Finished computing array([ 1.])\n",
      "Finished writing (slice(15, 16, None),)\n",
      "Starting writing (slice(16, 17, None),)\n",
      "Starting reading (slice(19, 20, None),)\n",
      "Finished reading (slice(19, 20, None),)\n",
      "Starting computing array([ 1.])\n",
      "Finished computing array([ 1.])\n",
      "Finished writing (slice(16, 17, None),)\n",
      "Starting writing (slice(17, 18, None),)\n",
      "Starting reading (slice(2, 3, None),)\n",
      "Finished reading (slice(2, 3, None),)\n",
      "Starting computing array([ 1.])\n",
      "Finished computing array([ 1.])\n",
      "Finished writing (slice(17, 18, None),)\n",
      "Starting writing (slice(18, 19, None),)\n",
      "Starting reading (slice(3, 4, None),)\n",
      "Finished reading (slice(3, 4, None),)\n",
      "Starting computing array([ 1.])\n",
      "Finished computing array([ 1.])\n",
      "Finished writing (slice(18, 19, None),)\n",
      "Starting writing (slice(19, 20, None),)\n",
      "Starting reading (slice(4, 5, None),)\n",
      "Finished reading (slice(4, 5, None),)\n",
      "Starting computing array([ 1.])\n",
      "Finished computing array([ 1.])\n",
      "Finished writing (slice(19, 20, None),)\n",
      "Starting writing (slice(2, 3, None),)\n",
      "Starting reading (slice(5, 6, None),)\n",
      "Finished reading (slice(5, 6, None),)\n",
      "Starting computing array([ 1.])\n",
      "Finished computing array([ 1.])\n",
      "Finished writing (slice(2, 3, None),)\n",
      "Starting writing (slice(3, 4, None),)\n",
      "Starting reading (slice(6, 7, None),)\n",
      "Finished reading (slice(6, 7, None),)\n",
      "Starting computing array([ 1.])\n",
      "Finished computing array([ 1.])\n",
      "Finished writing (slice(3, 4, None),)\n",
      "Starting writing (slice(4, 5, None),)\n",
      "Starting reading (slice(7, 8, None),)\n",
      "Finished reading (slice(7, 8, None),)\n",
      "Starting computing array([ 1.])\n",
      "Finished computing array([ 1.])\n",
      "Finished writing (slice(4, 5, None),)\n",
      "Starting writing (slice(5, 6, None),)\n",
      "Starting reading (slice(8, 9, None),)\n",
      "Finished reading (slice(8, 9, None),)\n",
      "Starting computing array([ 1.])\n",
      "Finished computing array([ 1.])\n",
      "Finished writing (slice(5, 6, None),)\n",
      "Starting writing (slice(6, 7, None),)\n",
      "Starting reading (slice(9, 10, None),)\n",
      "Finished reading (slice(9, 10, None),)\n",
      "Starting computing array([ 1.])\n",
      "Finished computing array([ 1.])\n",
      "Finished writing (slice(6, 7, None),)\n",
      "Starting writing (slice(7, 8, None),)\n",
      "Finished writing (slice(7, 8, None),)\n",
      "Starting writing (slice(8, 9, None),)\n",
      "Finished writing (slice(8, 9, None),)\n",
      "Starting writing (slice(9, 10, None),)\n",
      "Finished writing (slice(9, 10, None),)\n"
     ]
    }
   ],
   "source": [
    "with dask.set_options(pool=multithreading.Pool(4)):\n",
    "    z.store(thing)"
   ]
  },
  {
   "cell_type": "code",
   "execution_count": null,
   "metadata": {},
   "outputs": [],
   "source": []
  }
 ],
 "metadata": {
  "kernelspec": {
   "display_name": "Python 3",
   "language": "python",
   "name": "python3"
  },
  "language_info": {
   "codemirror_mode": {
    "name": "ipython",
    "version": 3
   },
   "file_extension": ".py",
   "mimetype": "text/x-python",
   "name": "python",
   "nbconvert_exporter": "python",
   "pygments_lexer": "ipython3",
   "version": "3.6.5"
  }
 },
 "nbformat": 4,
 "nbformat_minor": 2
}
