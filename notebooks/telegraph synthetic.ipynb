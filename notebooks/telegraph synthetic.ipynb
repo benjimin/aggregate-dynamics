{
 "cells": [
  {
   "cell_type": "markdown",
   "metadata": {},
   "source": [
    "This notebook pertains to mathematical theory and synthetic data"
   ]
  },
  {
   "cell_type": "code",
   "execution_count": 1,
   "metadata": {},
   "outputs": [],
   "source": [
    "import numpy as np\n",
    "import matplotlib.pyplot as plt\n",
    "%matplotlib inline"
   ]
  },
  {
   "cell_type": "markdown",
   "metadata": {},
   "source": [
    "Define problem"
   ]
  },
  {
   "cell_type": "code",
   "execution_count": 2,
   "metadata": {},
   "outputs": [
    {
     "data": {
      "text/plain": [
       "array([[-0.75,  0.25],\n",
       "       [ 0.75, -0.25]])"
      ]
     },
     "execution_count": 2,
     "metadata": {},
     "output_type": "execute_result"
    }
   ],
   "source": [
    "timeconst = 1\n",
    "ratio = 0.25\n",
    "\n",
    "transition = timeconst * np.asarray([[-(1-ratio), ratio], [(1-ratio), -ratio]])\n",
    "\n",
    "x0 = np.asarray([0.9,0.1])\n",
    "\n",
    "transition"
   ]
  },
  {
   "cell_type": "markdown",
   "metadata": {},
   "source": [
    "Simulation using small timesteps"
   ]
  },
  {
   "cell_type": "code",
   "execution_count": 3,
   "metadata": {},
   "outputs": [
    {
     "data": {
      "text/plain": [
       "array([ 0.25002939,  0.74997061])"
      ]
     },
     "execution_count": 3,
     "metadata": {},
     "output_type": "execute_result"
    },
    {
     "data": {
      "image/png": "[encoded data removed]",
      "text/plain": [
       "<matplotlib.figure.Figure at 0x7f5020a3c470>"
      ]
     },
     "metadata": {},
     "output_type": "display_data"
    }
   ],
   "source": [
    "n = 10000\n",
    "t = 10\n",
    "series = np.empty((n,2))\n",
    "series[0] = x0\n",
    "for i in range(1,n):\n",
    "    series[i] = series[i-1,:] + (t/n) * transition @ series[i-1,:]\n",
    "plt.plot(series)\n",
    "series[-1]"
   ]
  },
  {
   "cell_type": "markdown",
   "metadata": {},
   "source": [
    "Exact solution"
   ]
  },
  {
   "cell_type": "code",
   "execution_count": 4,
   "metadata": {},
   "outputs": [
    {
     "data": {
      "text/plain": [
       "array([ 0.25002954,  0.74997046])"
      ]
     },
     "execution_count": 4,
     "metadata": {},
     "output_type": "execute_result"
    },
    {
     "data": {
      "image/png": "[encoded data removed]",
      "text/plain": [
       "<matplotlib.figure.Figure at 0x7f5020a68da0>"
      ]
     },
     "metadata": {},
     "output_type": "display_data"
    }
   ],
   "source": [
    "pi = np.asarray([ratio, 1-ratio])\n",
    "assert np.all(transition @ pi == [0,0])\n",
    "def m(t):\n",
    "    return pi[:,None] - np.exp(-timeconst * t) * transition / timeconst\n",
    "def p(t):\n",
    "    return m(t) @ x0\n",
    "series = np.empty((n,2))\n",
    "for i in range(n):\n",
    "    series[i] = p(i * t/n)\n",
    "plt.plot(series)\n",
    "series[-1]"
   ]
  },
  {
   "cell_type": "code",
   "execution_count": 5,
   "metadata": {},
   "outputs": [
    {
     "data": {
      "text/plain": [
       "array([[ 1.,  0.],\n",
       "       [ 0.,  1.]])"
      ]
     },
     "execution_count": 5,
     "metadata": {},
     "output_type": "execute_result"
    }
   ],
   "source": [
    "m(0)"
   ]
  },
  {
   "cell_type": "code",
   "execution_count": 6,
   "metadata": {},
   "outputs": [
    {
     "data": {
      "text/plain": [
       "array([[ 0.25,  0.25],\n",
       "       [ 0.75,  0.75]])"
      ]
     },
     "execution_count": 6,
     "metadata": {},
     "output_type": "execute_result"
    }
   ],
   "source": [
    "m(100)"
   ]
  },
  {
   "cell_type": "markdown",
   "metadata": {},
   "source": [
    "The exact solution has a very simple form for the two-state case. Since the probabilities must sum to unity, the only valid region of the 2D state space is a straight line interval (from 100% one component to 100% the other component). The transition rate generator matrix must linearly map this subspace to itself and also tend towards a unique attractor; the dynamics must presumably be a stretch-shear. (Reflections/inversions are excluded by time-continuity.) For the three-state case, possible dynamics may include spirals? In general there may be no simple closed form solution; it may be necessary to compute the matrix exponential for each duration.\n",
    "\n",
    "## Synthetic data"
   ]
  },
  {
   "cell_type": "code",
   "execution_count": 75,
   "metadata": {},
   "outputs": [
    {
     "data": {
      "text/plain": [
       "[<matplotlib.lines.Line2D at 0x7f4fd1791438>]"
      ]
     },
     "execution_count": 75,
     "metadata": {},
     "output_type": "execute_result"
    },
    {
     "data": {
      "image/png": "[encoded data removed]",
      "text/plain": [
       "<matplotlib.figure.Figure at 0x7f4fd181d5f8>"
      ]
     },
     "metadata": {},
     "output_type": "display_data"
    }
   ],
   "source": [
    "dt = timeconst / 5 # observation frequency\n",
    "tobs = np.arange(0, t, dt) # observation times\n",
    "\n",
    "import random\n",
    "random.seed(0)\n",
    "obs = np.empty_like(tobs, dtype=np.int8)\n",
    "M = m(dt)\n",
    "for i,to in enumerate(tobs):\n",
    "    if i == 0:\n",
    "        obs[i] = random.random() < ratio\n",
    "    else:\n",
    "        obs[i] = random.random() < M[0][1 - obs[i-1]]\n",
    "plt.plot(tobs, obs, marker='o', linestyle='', alpha=0.5)"
   ]
  },
  {
   "cell_type": "code",
   "execution_count": 50,
   "metadata": {},
   "outputs": [
    {
     "data": {
      "text/plain": [
       "array([[ 0.92862806,  0.02379065],\n",
       "       [ 0.07137194,  0.97620935]])"
      ]
     },
     "execution_count": 50,
     "metadata": {},
     "output_type": "execute_result"
    }
   ],
   "source": [
    "M"
   ]
  },
  {
   "cell_type": "markdown",
   "metadata": {},
   "source": [
    "Note, if only using integer-multiple time steps for interpolation, m(t) is amenable to a lookup table."
   ]
  },
  {
   "cell_type": "code",
   "execution_count": 31,
   "metadata": {},
   "outputs": [
    {
     "data": {
      "text/plain": [
       "0"
      ]
     },
     "execution_count": 31,
     "metadata": {},
     "output_type": "execute_result"
    }
   ],
   "source": [
    "int(obs[1-1])"
   ]
  },
  {
   "cell_type": "code",
   "execution_count": null,
   "metadata": {},
   "outputs": [],
   "source": []
  }
 ],
 "metadata": {
  "kernelspec": {
   "display_name": "Python 3",
   "language": "python",
   "name": "python3"
  },
  "language_info": {
   "codemirror_mode": {
    "name": "ipython",
    "version": 3
   },
   "file_extension": ".py",
   "mimetype": "text/x-python",
   "name": "python",
   "nbconvert_exporter": "python",
   "pygments_lexer": "ipython3",
   "version": "3.6.5"
  }
 },
 "nbformat": 4,
 "nbformat_minor": 2
}
