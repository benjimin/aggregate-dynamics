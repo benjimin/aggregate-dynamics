{
 "cells": [
  {
   "cell_type": "code",
   "execution_count": 1,
   "metadata": {},
   "outputs": [],
   "source": [
    "import rasterio\n",
    "import threading\n",
    "import SharedArray\n",
    "import numpy as np\n",
    "import multiprocessing.sharedctypes\n",
    "import ctypes"
   ]
  },
  {
   "cell_type": "code",
   "execution_count": 2,
   "metadata": {},
   "outputs": [],
   "source": [
    "geotiffs = ['/g/data/v10/testing_ground/wofs_summary/wofs_' + cell + '_frequency.tif' for cell in ['15_-40', '16_-40']]"
   ]
  },
  {
   "cell_type": "code",
   "execution_count": 3,
   "metadata": {},
   "outputs": [],
   "source": [
    "netcdfs = ['/g/data/v10/testing_ground/wofs_brl/output/LS8_OLI_WATER/15_-40/LS8_OLI_WATER_3577_15_-40_20130831235831000000_v1502857924.nc',\n",
    "           '/g/data/v10/testing_ground/wofs_brl/output/LS8_OLI_WATER/15_-40/LS8_OLI_WATER_3577_15_-40_20130831235855000000_v1502857924.nc']"
   ]
  },
  {
   "cell_type": "code",
   "execution_count": 4,
   "metadata": {},
   "outputs": [],
   "source": [
    "def readtif(filename):\n",
    "    with rasterio.open(filename, 'r') as f:\n",
    "        return f.read(1)\n",
    "def readnc(filename):\n",
    "    return readtif('NetCDF:'+filename+':water')"
   ]
  },
  {
   "cell_type": "code",
   "execution_count": 22,
   "metadata": {},
   "outputs": [],
   "source": [
    "def sequential(func, arg1, arg2):\n",
    "    out = np.zeros((2,4000,4000), dtype=np.float32)\n",
    "    out[0] = func(arg1)\n",
    "    out[1] = func(arg2)\n",
    "    return out\n",
    "\n",
    "def parthread(func, arg1, arg2):\n",
    "    out = np.zeros((2,4000,4000), dtype=np.float32)\n",
    "    def f(i, arg):\n",
    "        out[i] = func(arg)\n",
    "    a = threading.Thread(target=f, args=(0, arg1))\n",
    "    b = threading.Thread(target=f, args=(1, arg2))\n",
    "    a.start()\n",
    "    b.start()\n",
    "    a.join()\n",
    "    b.join()\n",
    "    return out\n",
    "\n",
    "def task(i, f, arg):\n",
    "    a = SharedArray.attach('shm://array')\n",
    "    a[i] = f(arg)\n",
    "def parprocess(func, arg1, arg2): # processes not threads\n",
    "    array = SharedArray.create('shm://array', (2,4000,4000), dtype=np.float32)\n",
    "    a = multiprocessing.Process(target=task, args=(0, func, arg1))\n",
    "    b = multiprocessing.Process(target=task, args=(1, func, arg2))\n",
    "    a.start()\n",
    "    b.start()\n",
    "    a.join()\n",
    "    b.join()\n",
    "    SharedArray.delete('array')\n",
    "    return array\n",
    "\n",
    "def task2(i, f, arg, array):\n",
    "    array = task2.arr\n",
    "    array[i] = f(arg)\n",
    "def parprocess2(func, arg1, arg2): # processes not threads\n",
    "    share = multiprocessing.sharedctypes.RawArray('b', int(2*4000*4000*int(32/8)))\n",
    "    array = np.frombuffer(share, dtype=np.float32).reshape((2,4000,4000))\n",
    "    a = multiprocessing.Process(target=task2, args=(0, func, arg1, array))\n",
    "    b = multiprocessing.Process(target=task2, args=(1, func, arg2, array))\n",
    "    a.start()\n",
    "    b.start()\n",
    "    a.join()\n",
    "    b.join()\n",
    "    return array\n",
    "\n",
    "class tasker:\n",
    "    def __init__(self, func, array):\n",
    "        self.f = func\n",
    "        self.array = array\n",
    "    def __call__(self, i, arg):\n",
    "        self.array[i] = self.f(arg)\n",
    "\n",
    "def parprocess3(func, arg1, arg2): # processes not threads\n",
    "    share = multiprocessing.sharedctypes.RawArray('b', int(2*4000*4000*int(32/8)))\n",
    "    array = np.frombuffer(share, dtype=np.float32).reshape((2,4000,4000))\n",
    "    task2.arr = array\n",
    "    with multiprocessing.Pool(4) as pool:\n",
    "        pool.starmap(task2, [(0, func, arg1, array),(1, func, arg2, array)])\n",
    "    return array\n",
    "\n",
    "def parprocess4(func, arg1, arg2): # processes not threads\n",
    "    share = multiprocessing.sharedctypes.RawArray('b', int(2*4000*4000*int(32/8)))\n",
    "    array = np.frombuffer(share, dtype=np.float32).reshape((2,4000,4000))\n",
    "    t = tasker(func, array)\n",
    "    with multiprocessing.Pool(4) as pool:\n",
    "        pool.starmap(t, enumerate([arg1, arg2]))\n",
    "    #[t(*x) for x in enumerate([arg1, arg2])]\n",
    "    return array"
   ]
  },
  {
   "cell_type": "code",
   "execution_count": null,
   "metadata": {},
   "outputs": [],
   "source": [
    "%timeit sequential(readtif, *geotiffs)"
   ]
  },
  {
   "cell_type": "code",
   "execution_count": null,
   "metadata": {},
   "outputs": [],
   "source": [
    "%timeit parthread(readtif, *geotiffs)"
   ]
  },
  {
   "cell_type": "code",
   "execution_count": null,
   "metadata": {},
   "outputs": [],
   "source": [
    "%timeit parprocess2(readtif, *geotiffs)"
   ]
  },
  {
   "cell_type": "code",
   "execution_count": null,
   "metadata": {},
   "outputs": [],
   "source": [
    "%timeit parprocess(readtif, *geotiffs)"
   ]
  },
  {
   "cell_type": "markdown",
   "metadata": {},
   "source": [
    "Note, this netcdf is uint8 not float32"
   ]
  },
  {
   "cell_type": "code",
   "execution_count": null,
   "metadata": {},
   "outputs": [],
   "source": [
    "%timeit sequential(readnc, *netcdfs)"
   ]
  },
  {
   "cell_type": "code",
   "execution_count": null,
   "metadata": {},
   "outputs": [],
   "source": [
    "%timeit parthread(readnc, *netcdfs)"
   ]
  },
  {
   "cell_type": "code",
   "execution_count": null,
   "metadata": {},
   "outputs": [],
   "source": [
    "%timeit parprocess(readnc, *netcdfs)"
   ]
  },
  {
   "cell_type": "code",
   "execution_count": null,
   "metadata": {},
   "outputs": [],
   "source": [
    "%timeit parprocess2(readnc, *netcdfs)"
   ]
  },
  {
   "cell_type": "code",
   "execution_count": null,
   "metadata": {},
   "outputs": [],
   "source": []
  },
  {
   "cell_type": "code",
   "execution_count": 23,
   "metadata": {},
   "outputs": [
    {
     "data": {
      "text/plain": [
       "array([[[ 0.,  0.,  0., ...,  0.,  0.,  0.],\n",
       "        [ 0.,  0.,  0., ...,  0.,  0.,  0.],\n",
       "        [ 0.,  0.,  0., ...,  0.,  0.,  0.],\n",
       "        ..., \n",
       "        [ 0.,  0.,  0., ...,  0.,  0.,  0.],\n",
       "        [ 0.,  0.,  0., ...,  0.,  0.,  0.],\n",
       "        [ 0.,  0.,  0., ...,  0.,  0.,  0.]],\n",
       "\n",
       "       [[ 0.,  0.,  0., ...,  0.,  0.,  0.],\n",
       "        [ 0.,  0.,  0., ...,  0.,  0.,  0.],\n",
       "        [ 0.,  0.,  0., ...,  0.,  0.,  0.],\n",
       "        ..., \n",
       "        [ 0.,  0.,  0., ...,  0.,  0.,  0.],\n",
       "        [ 0.,  0.,  0., ...,  0.,  0.,  0.],\n",
       "        [ 0.,  0.,  0., ...,  0.,  0.,  0.]]], dtype=float32)"
      ]
     },
     "execution_count": 23,
     "metadata": {},
     "output_type": "execute_result"
    }
   ],
   "source": [
    "parprocess4(readnc, *netcdfs)"
   ]
  },
  {
   "cell_type": "code",
   "execution_count": 32,
   "metadata": {},
   "outputs": [
    {
     "name": "stdout",
     "output_type": "stream",
     "text": [
      "[0 1 2 3 4 5 6 7 8 9]\n",
      "[0 1 2 3 4 5 6 7 8 9]\n"
     ]
    }
   ],
   "source": [
    "import multiprocessing.sharedctypes\n",
    "import numpy as np\n",
    "\n",
    "def task(i):\n",
    "    global x\n",
    "    x[i] = i\n",
    "\n",
    "sharedresource = multiprocessing.sharedctypes.RawArray('b', 10)\n",
    "x = np.frombuffer(sharedresource, dtype=np.uint8)\n",
    "\n",
    "with multiprocessing.Pool(4) as pool:\n",
    "    pool.map(task, range(10)) # implicitly modify x\n",
    "    \n",
    "print(x) # [0 1 2 3 4 5 6 7 8 9]\n",
    "\n",
    "def task2(i, array):\n",
    "    array[i] = 7\n",
    "\n",
    "with multiprocessing.Pool(4) as pool:\n",
    "    pool.starmap(task2, ((i,x) for i in range(10))) # explicit fail\n",
    "\n",
    "print(x) # still [0 1 2 3 4 5 6 7 8 9]"
   ]
  },
  {
   "cell_type": "code",
   "execution_count": null,
   "metadata": {},
   "outputs": [],
   "source": []
  }
 ],
 "metadata": {
  "kernelspec": {
   "display_name": "Python 3",
   "language": "python",
   "name": "python3"
  },
  "language_info": {
   "codemirror_mode": {
    "name": "ipython",
    "version": 3
   },
   "file_extension": ".py",
   "mimetype": "text/x-python",
   "name": "python",
   "nbconvert_exporter": "python",
   "pygments_lexer": "ipython3",
   "version": "3.6.5"
  }
 },
 "nbformat": 4,
 "nbformat_minor": 2
}
